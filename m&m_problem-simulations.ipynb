{
 "cells": [
  {
   "cell_type": "markdown",
   "metadata": {},
   "source": [
    "# The M&M Problem - Simulations\n",
    "\n",
    "Given equal numbers of six different colors of M&M's (red, orange, yellow, green, blue, and brown), how many M&M's do I have to draw before it becomes likely that I have every color represented?\n",
    "\n",
    "In the theory notebook we tried solving this problem analytically. Let's now take the approach of simulated trials.\n",
    "\n",
    "## 1 of each:\n",
    "\n",
    "The answer here is 6, which we can confirm by simulation."
   ]
  },
  {
   "cell_type": "code",
   "execution_count": 1,
   "metadata": {},
   "outputs": [],
   "source": [
    "import numpy as np"
   ]
  },
  {
   "cell_type": "code",
   "execution_count": 3,
   "metadata": {},
   "outputs": [],
   "source": [
    "mms1 = ['red', 'orange', 'yellow', 'green', 'blue', 'brown']"
   ]
  },
  {
   "cell_type": "code",
   "execution_count": 17,
   "metadata": {},
   "outputs": [
    {
     "data": {
      "text/plain": [
       "False"
      ]
     },
     "execution_count": 17,
     "metadata": {},
     "output_type": "execute_result"
    }
   ],
   "source": [
    "draw1_5 = np.random.choice(mms1, size=5, replace=False)\n",
    "\n",
    "set(draw1_5) == set(mms1)"
   ]
  },
  {
   "cell_type": "code",
   "execution_count": 18,
   "metadata": {},
   "outputs": [
    {
     "data": {
      "text/plain": [
       "True"
      ]
     },
     "execution_count": 18,
     "metadata": {},
     "output_type": "execute_result"
    }
   ],
   "source": [
    "draw1_6 = np.random.choice(mms1, size=6, replace=False)\n",
    "    \n",
    "set(draw1_6) == set(mms1)"
   ]
  },
  {
   "cell_type": "markdown",
   "metadata": {},
   "source": [
    "## 2 of each:\n",
    "\n",
    "In our theory notebook we calculated an answer of 9. Let's see if we can confirm that by simulation."
   ]
  },
  {
   "cell_type": "code",
   "execution_count": 19,
   "metadata": {},
   "outputs": [],
   "source": [
    "mms2 = 2 * mms1"
   ]
  },
  {
   "cell_type": "code",
   "execution_count": null,
   "metadata": {},
   "outputs": [],
   "source": [
    "ctr = 0\n",
    "for _ in range(10000):\n",
    "    draw2_6 = np.random.choice(mms2, size=6, replace=False)\n",
    "    if set(draw2_6) == set(mms2):\n",
    "        ctr += 1\n",
    "\n",
    "c"
   ]
  },
  {
   "cell_type": "code",
   "execution_count": 20,
   "metadata": {},
   "outputs": [],
   "source": [
    "def mm_simulation(each_mm, draws, sims):\n",
    "    ctr = 0\n",
    "    for _ in range(sims):\n",
    "        draw = np.random.choice(each_mm * mms1, size=draws, replace=False)\n",
    "        if set(draw) == set(each_mm * mms1):\n",
    "            ctr += 1\n",
    "    return ctr / sims"
   ]
  },
  {
   "cell_type": "code",
   "execution_count": 22,
   "metadata": {},
   "outputs": [
    {
     "data": {
      "text/plain": [
       "1.0"
      ]
     },
     "execution_count": 22,
     "metadata": {},
     "output_type": "execute_result"
    }
   ],
   "source": [
    "mm_simulation(1, 6, 100)"
   ]
  },
  {
   "cell_type": "code",
   "execution_count": 25,
   "metadata": {},
   "outputs": [
    {
     "data": {
      "text/plain": [
       "0.492"
      ]
     },
     "execution_count": 25,
     "metadata": {},
     "output_type": "execute_result"
    }
   ],
   "source": [
    "mm_simulation(2, 8, 1000)"
   ]
  },
  {
   "cell_type": "code",
   "execution_count": 27,
   "metadata": {},
   "outputs": [
    {
     "data": {
      "text/plain": [
       "0.4863"
      ]
     },
     "execution_count": 27,
     "metadata": {},
     "output_type": "execute_result"
    }
   ],
   "source": [
    "mm_simulation(2, 8, 10000)"
   ]
  },
  {
   "cell_type": "code",
   "execution_count": 29,
   "metadata": {
    "scrolled": true
   },
   "outputs": [
    {
     "data": {
      "text/plain": [
       "0.7286"
      ]
     },
     "execution_count": 29,
     "metadata": {},
     "output_type": "execute_result"
    }
   ],
   "source": [
    "mm_simulation(2, 9, 10000)"
   ]
  },
  {
   "cell_type": "code",
   "execution_count": 30,
   "metadata": {},
   "outputs": [
    {
     "data": {
      "text/plain": [
       "1000"
      ]
     },
     "execution_count": 30,
     "metadata": {},
     "output_type": "execute_result"
    }
   ],
   "source": [
    "results = np.zeros(1000)\n",
    "for j in range(1000):\n",
    "    results[j] = mm_simulation(2, 9, 100)\n",
    "len(results[results >= 0.5])    "
   ]
  },
  {
   "cell_type": "markdown",
   "metadata": {},
   "source": [
    "## 3 of each:\n",
    "\n",
    "Similar strategy here:\n",
    "\n",
    "Drawing 9: There could be:\n",
    "- one color with three, one color with two, and four colors with one each; or\n",
    "- three colors with two each and three colors with one each\n",
    "\n",
    "So we have $\\large\\frac{{6\\choose 1}{5\\choose 1}{3\\choose 3}{3\\choose 2}{3\\choose 1}^4}{18\\choose 9} + \\frac{{6\\choose 3}{3\\choose 2}^3{3\\choose 1}^3}{18\\choose 9}$"
   ]
  },
  {
   "cell_type": "code",
   "execution_count": 32,
   "metadata": {},
   "outputs": [
    {
     "data": {
      "text/plain": [
       "0.451"
      ]
     },
     "execution_count": 32,
     "metadata": {},
     "output_type": "execute_result"
    }
   ],
   "source": [
    "mm_simulation(3, 9, 1000)"
   ]
  },
  {
   "cell_type": "code",
   "execution_count": 33,
   "metadata": {},
   "outputs": [
    {
     "data": {
      "text/plain": [
       "0.4516"
      ]
     },
     "execution_count": 33,
     "metadata": {},
     "output_type": "execute_result"
    }
   ],
   "source": [
    "mm_simulation(3, 9, 10000)"
   ]
  },
  {
   "cell_type": "code",
   "execution_count": 35,
   "metadata": {},
   "outputs": [
    {
     "data": {
      "text/plain": [
       "0.6014"
      ]
     },
     "execution_count": 35,
     "metadata": {},
     "output_type": "execute_result"
    }
   ],
   "source": [
    "mm_simulation(3, 10, 10000)"
   ]
  },
  {
   "cell_type": "markdown",
   "metadata": {},
   "source": [
    "## 4 of each:\n",
    "\n",
    "Drawing 10: All possibilities:\n",
    "\n",
    "- 4-4-2-0-0-0 (no)\n",
    "- 4-4-1-1-0-0 (no)\n",
    "- 4-3-3-0-0-0 (no)\n",
    "- 4-3-2-1-0-0 (no)\n",
    "- 4-3-1-1-1-0 (no)\n",
    "- 4-2-2-2-0-0 (no)\n",
    "- 4-2-2-1-1-0 (no)\n",
    "- 4-2-1-1-1-1 (yes)\n",
    "- 3-3-3-1-0-0 (no)\n",
    "- 3-3-2-2-0-0 (no)\n",
    "- 3-3-2-1-1-0 (no)\n",
    "- 3-3-1-1-1-1 (yes)\n",
    "- 3-2-2-2-1-0 (no)\n",
    "- 3-2-2-1-1-1 (yes)\n",
    "- 2-2-2-2-2-0 (no)\n",
    "- 2-2-2-2-1-1 (yes)\n",
    "\n",
    "Success:\n",
    "\n",
    "$\\large\\frac{{6\\choose 1}{5\\choose 1}{4\\choose 4}{4\\choose 2}{4\\choose 1}^4}{24\\choose 10} + \\frac{{6\\choose 2}{4\\choose 3}^2{4\\choose 1}^4}{24\\choose 10} + \\frac{{6\\choose 1}{5\\choose 2}{4\\choose 3}{4\\choose 2}^2{4\\choose 1}^3}{24\\choose 10} + \\frac{{6\\choose 4}{4\\choose 2}^4{4\\choose 1}^2}{24\\choose 10}$"
   ]
  },
  {
   "cell_type": "code",
   "execution_count": 40,
   "metadata": {},
   "outputs": [],
   "source": [
    "def mm_simulation_var_colors(colors, each_mm, draws, sims):\n",
    "    ctr = 0\n",
    "    for _ in range(sims):\n",
    "        draw = np.random.choice(each_mm * list(range(colors)),\n",
    "                                size=draws, replace=False)\n",
    "        if set(draw) == set(each_mm * list(range(colors))):\n",
    "            ctr += 1\n",
    "    return ctr / sims"
   ]
  },
  {
   "cell_type": "code",
   "execution_count": 50,
   "metadata": {},
   "outputs": [
    {
     "data": {
      "text/plain": [
       "0.5152"
      ]
     },
     "execution_count": 50,
     "metadata": {},
     "output_type": "execute_result"
    }
   ],
   "source": [
    "mm_simulation_var_colors(6, 100, 13, 10000)"
   ]
  },
  {
   "cell_type": "markdown",
   "metadata": {},
   "source": [
    "## Two colors, 100 of each"
   ]
  },
  {
   "cell_type": "code",
   "execution_count": 67,
   "metadata": {},
   "outputs": [
    {
     "name": "stdout",
     "output_type": "stream",
     "text": [
      "0.50021\n",
      "0.75372\n",
      "0.8793\n",
      "0.93999\n",
      "0.97146\n",
      "0.9855\n",
      "0.99303\n",
      "0.99695\n"
     ]
    }
   ],
   "source": [
    "for j in range(2, 10):\n",
    "    print(mm_simulation_var_colors(2, 100, j, 100000))"
   ]
  },
  {
   "cell_type": "markdown",
   "metadata": {},
   "source": [
    "### Two colors: Draw 2."
   ]
  },
  {
   "cell_type": "markdown",
   "metadata": {},
   "source": [
    "## Three colors, 100 of each"
   ]
  },
  {
   "cell_type": "code",
   "execution_count": 68,
   "metadata": {},
   "outputs": [
    {
     "name": "stdout",
     "output_type": "stream",
     "text": [
      "0.22465\n",
      "0.44878\n",
      "0.62417\n",
      "0.7479\n",
      "0.82937\n",
      "0.89007\n",
      "0.92686\n"
     ]
    }
   ],
   "source": [
    "for j in range(3, 10):\n",
    "    print(mm_simulation_var_colors(3, 100, j, 100000))"
   ]
  },
  {
   "cell_type": "markdown",
   "metadata": {},
   "source": [
    "### Three colors: Draw 5."
   ]
  },
  {
   "cell_type": "markdown",
   "metadata": {},
   "source": [
    "## Four colors, 100 of each"
   ]
  },
  {
   "cell_type": "code",
   "execution_count": 69,
   "metadata": {},
   "outputs": [
    {
     "name": "stdout",
     "output_type": "stream",
     "text": [
      "0.09623\n",
      "0.23881\n",
      "0.38322\n",
      "0.51984\n",
      "0.62846\n",
      "0.72042\n"
     ]
    }
   ],
   "source": [
    "for j in range(4, 10):\n",
    "    print(mm_simulation_var_colors(4, 100, j, 100000))"
   ]
  },
  {
   "cell_type": "markdown",
   "metadata": {},
   "source": [
    "### Four colors: Draw 7."
   ]
  },
  {
   "cell_type": "markdown",
   "metadata": {},
   "source": [
    "## Five colors, 100 of each"
   ]
  },
  {
   "cell_type": "code",
   "execution_count": 70,
   "metadata": {},
   "outputs": [
    {
     "name": "stdout",
     "output_type": "stream",
     "text": [
      "0.03988\n",
      "0.11738\n",
      "0.21768\n",
      "0.3276\n",
      "0.43496\n",
      "0.53139\n",
      "0.61653\n"
     ]
    }
   ],
   "source": [
    "for j in range(5, 12):\n",
    "    print(mm_simulation_var_colors(5, 100, j, 100000))"
   ]
  },
  {
   "cell_type": "markdown",
   "metadata": {},
   "source": [
    "### Five colors: Draw 10."
   ]
  },
  {
   "cell_type": "markdown",
   "metadata": {},
   "source": [
    "## Six colors, 100 of each"
   ]
  },
  {
   "cell_type": "code",
   "execution_count": 72,
   "metadata": {},
   "outputs": [
    {
     "name": "stdout",
     "output_type": "stream",
     "text": [
      "0.01567\n",
      "0.0564\n",
      "0.11742\n",
      "0.19079\n",
      "0.28102\n",
      "0.36539\n",
      "0.44741\n",
      "0.52115\n",
      "0.5935\n"
     ]
    }
   ],
   "source": [
    "for j in range(6, 15):\n",
    "    print(mm_simulation_var_colors(6, 100, j, 100000))"
   ]
  },
  {
   "cell_type": "markdown",
   "metadata": {},
   "source": [
    "### Six colors: Draw 13."
   ]
  },
  {
   "cell_type": "markdown",
   "metadata": {},
   "source": [
    "## Seven colors, 100 of each"
   ]
  },
  {
   "cell_type": "code",
   "execution_count": 73,
   "metadata": {},
   "outputs": [
    {
     "name": "stdout",
     "output_type": "stream",
     "text": [
      "0.00653\n",
      "0.02482\n",
      "0.05968\n",
      "0.10761\n",
      "0.16854\n",
      "0.23291\n",
      "0.30575\n",
      "0.3756\n",
      "0.44177\n",
      "0.50988\n",
      "0.56926\n",
      "0.61997\n",
      "0.67423\n"
     ]
    }
   ],
   "source": [
    "for j in range(7, 20):\n",
    "    print(mm_simulation_var_colors(7, 100, j, 100000))"
   ]
  },
  {
   "cell_type": "markdown",
   "metadata": {},
   "source": [
    "### Seven colors: Draw 16."
   ]
  },
  {
   "cell_type": "markdown",
   "metadata": {},
   "source": [
    "## Generalizing"
   ]
  },
  {
   "cell_type": "code",
   "execution_count": 78,
   "metadata": {},
   "outputs": [
    {
     "name": "stdout",
     "output_type": "stream",
     "text": [
      "2\n",
      "5\n",
      "7\n",
      "10\n",
      "13\n",
      "16\n",
      "20\n",
      "23\n",
      "27\n"
     ]
    },
    {
     "data": {
      "text/plain": [
       "{2: 2, 3: 5, 4: 7, 5: 10, 6: 13, 7: 16, 8: 20, 9: 23, 10: 27}"
      ]
     },
     "execution_count": 78,
     "metadata": {},
     "output_type": "execute_result"
    }
   ],
   "source": [
    "# Warning: This cell will take several minutes to run.\n",
    "\n",
    "nums = {}\n",
    "for j in range(2, 11):\n",
    "    nums[j] = 0\n",
    "\n",
    "for j in range(2, 11):\n",
    "    k = j\n",
    "    while mm_simulation_var_colors(j, 100, k, 100000) < 0.5:\n",
    "        k += 1\n",
    "    nums[j] = k\n",
    "    print(k)\n",
    "\n",
    "nums"
   ]
  },
  {
   "cell_type": "code",
   "execution_count": null,
   "metadata": {},
   "outputs": [],
   "source": []
  }
 ],
 "metadata": {
  "kernelspec": {
   "display_name": "Python 3",
   "language": "python",
   "name": "python3"
  },
  "language_info": {
   "codemirror_mode": {
    "name": "ipython",
    "version": 3
   },
   "file_extension": ".py",
   "mimetype": "text/x-python",
   "name": "python",
   "nbconvert_exporter": "python",
   "pygments_lexer": "ipython3",
   "version": "3.7.2"
  }
 },
 "nbformat": 4,
 "nbformat_minor": 4
}
