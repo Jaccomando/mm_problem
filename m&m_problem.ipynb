{
 "cells": [
  {
   "cell_type": "markdown",
   "metadata": {},
   "source": [
    "# The M&M Problem\n",
    "\n",
    "Given equal numbers of six different colors of M&M's (red, orange, yellow, green, blue, and brown), how many M&M's do I have to draw before it becomes likely that I have every color represented?\n",
    "\n",
    "## 1 of each:\n",
    "Clearly, in this case I'd have to draw all six. <br/>\n",
    "**Ans.: 6/6**\n",
    "\n",
    "## 2 of each:\n",
    "Let's calculate the probability of having all six colors for different numbers of drawn M&M's:\n",
    "\n",
    "Drawing 6:\n",
    "There would have to be exactly one of each.\n",
    "\n",
    "So we have $\\large\\frac{{2\\choose 1}^6}{12\\choose 6}$"
   ]
  },
  {
   "cell_type": "code",
   "execution_count": 1,
   "metadata": {},
   "outputs": [
    {
     "data": {
      "text/plain": [
       "0.06926406926406926"
      ]
     },
     "execution_count": 1,
     "metadata": {},
     "output_type": "execute_result"
    }
   ],
   "source": [
    "from math import factorial\n",
    "\n",
    "2**6 / (factorial(12) // factorial(6)**2)"
   ]
  },
  {
   "cell_type": "markdown",
   "metadata": {},
   "source": [
    "Drawing 7: There would have to be two of one color and one of each of the rest, so there are $6\\choose 1$ ways of arranging that.\n",
    "\n",
    "So we have $\\large\\frac{{6\\choose 1}{2\\choose 2}{2\\choose 1}^5}{12\\choose 7}$"
   ]
  },
  {
   "cell_type": "code",
   "execution_count": 2,
   "metadata": {},
   "outputs": [
    {
     "data": {
      "text/plain": [
       "0.24242424242424243"
      ]
     },
     "execution_count": 2,
     "metadata": {},
     "output_type": "execute_result"
    }
   ],
   "source": [
    "6 * 2**5 / (factorial(12) // (factorial(7)*factorial(5)))"
   ]
  },
  {
   "cell_type": "markdown",
   "metadata": {},
   "source": [
    "Drawing 8: There would have to be two colors with two each and four colors with one each, so there are $6\\choose 2$ ways of arranging that.\n",
    "\n",
    "So we have $\\large\\frac{{6\\choose 2}{2\\choose 2}^2{2\\choose 1}^4}{12\\choose 8}$"
   ]
  },
  {
   "cell_type": "code",
   "execution_count": 3,
   "metadata": {},
   "outputs": [
    {
     "data": {
      "text/plain": [
       "0.48484848484848486"
      ]
     },
     "execution_count": 3,
     "metadata": {},
     "output_type": "execute_result"
    }
   ],
   "source": [
    "(factorial(6) // (factorial(2)*factorial(4)) * 2**4) / (factorial(12) // (factorial(8)*factorial(4)))"
   ]
  },
  {
   "cell_type": "markdown",
   "metadata": {},
   "source": [
    "Drawing 9: There would have to be three colors with two each and three colors with one each, so there are $6\\choose 3$ ways of arranging that.\n",
    "\n",
    "So we have $\\large\\frac{{6\\choose 3}{2\\choose 2}^3{2\\choose 1}^3}{12\\choose 9}$"
   ]
  },
  {
   "cell_type": "code",
   "execution_count": 4,
   "metadata": {},
   "outputs": [
    {
     "data": {
      "text/plain": [
       "0.7272727272727273"
      ]
     },
     "execution_count": 4,
     "metadata": {},
     "output_type": "execute_result"
    }
   ],
   "source": [
    "(factorial(6) // factorial(3)**2 * 2**3) / (factorial(12) // (factorial(9)*factorial(3)))"
   ]
  },
  {
   "cell_type": "markdown",
   "metadata": {},
   "source": [
    "**Ans.: 9/12**"
   ]
  },
  {
   "cell_type": "markdown",
   "metadata": {},
   "source": [
    "## 3 of each:\n",
    "\n",
    "Similar strategy here:\n",
    "\n",
    "Drawing 9: There could be:\n",
    "- one color with three, one color with two, and four colors with one each; or\n",
    "- three colors with two each and three colors with one each\n",
    "\n",
    "So we have $\\large\\frac{{6\\choose 1}{5\\choose 1}{3\\choose 3}{3\\choose 2}{3\\choose 1}^4}{18\\choose 9} + \\frac{{6\\choose 3}{3\\choose 2}^3{3\\choose 1}^3}{18\\choose 9}$"
   ]
  },
  {
   "cell_type": "code",
   "execution_count": 5,
   "metadata": {},
   "outputs": [
    {
     "data": {
      "text/plain": [
       "0.14993829699712052"
      ]
     },
     "execution_count": 5,
     "metadata": {},
     "output_type": "execute_result"
    }
   ],
   "source": [
    "(6 * 5 * 3 * 3**4) / (factorial(18) // factorial(9)**2) +\\\n",
    "(factorial(6) // factorial(3)**2 * 3**3 * 3**3) // (factorial(18) // factorial(9)**2)"
   ]
  },
  {
   "cell_type": "markdown",
   "metadata": {},
   "source": [
    "Drawing 10: There could be:\n",
    "- two colors with three each and four colors with one each; or\n",
    "- one color with three, two colors with two each, and three colors with one each; or\n",
    "- four colors with two each and two colors with one each\n",
    "\n",
    "So we have $\\large\\frac{{6\\choose 2}{3\\choose 3}^2{3\\choose 1}^4}{18\\choose 10} + \\frac{{6\\choose 1}{5\\choose 2}{3\\choose 3}{3\\choose 2}^2{3\\choose 1}^3}{18\\choose 10} + \\frac{{6\\choose 4}{3\\choose 2}^4{3\\choose 1}^2}{18\\choose 10}$"
   ]
  },
  {
   "cell_type": "code",
   "execution_count": 6,
   "metadata": {},
   "outputs": [],
   "source": [
    "denom = factorial(18) // (factorial(10)*factorial(8))"
   ]
  },
  {
   "cell_type": "code",
   "execution_count": 7,
   "metadata": {},
   "outputs": [
    {
     "data": {
      "text/plain": [
       "0.6108597285067874"
      ]
     },
     "execution_count": 7,
     "metadata": {},
     "output_type": "execute_result"
    }
   ],
   "source": [
    "(factorial(6) // (factorial(2)*factorial(4)) * 3**4) / denom +\\\n",
    "(6 * (factorial(5) // (factorial(2)*factorial(3))) * 3**2 * 3**3) / denom +\\\n",
    "(factorial(6) // (factorial(4)*factorial(2)) * 3**4 * 3**2) / denom"
   ]
  },
  {
   "cell_type": "markdown",
   "metadata": {},
   "source": [
    "**Ans.: 10/18**"
   ]
  },
  {
   "cell_type": "markdown",
   "metadata": {},
   "source": [
    "Check:\n",
    "\n",
    "3-3-3-1-0-0 (no): $\\frac{{6\\choose 3}{3\\choose 1}{3\\choose 3}^3{3\\choose 1}{3\\choose 0}^2}{18\\choose 10}$ <br/>\n",
    "3-3-2-2-0-0 (no): $\\frac{{6\\choose 2}{4\\choose 2}{3\\choose 3}^2{3\\choose 2}^2{3\\choose 0}^2}{18\\choose 10}$ <br/>\n",
    "3-3-2-1-1-0 (no): $\\frac{{6\\choose 2}{4\\choose 1}{3\\choose 2}{3\\choose 3}^2{3\\choose 2}{3\\choose 1}^2{3\\choose 0}}{18\\choose 10}$ <br/>\n",
    "3-3-1-1-1-1 (yes): $\\frac{{6\\choose 2}{3\\choose 3}^2{3\\choose 1}^4}{18\\choose 10}$ <br/>\n",
    "3-2-2-2-1-0 (no): $\\frac{{6\\choose 1}{5\\choose 3}{2\\choose 1}{3\\choose 3}{3\\choose 2}^3{3\\choose 1}{3\\choose 0}}{18\\choose 10}$ <br/>\n",
    "3-2-2-1-1-1 (yes): $\\frac{{6\\choose 1}{5\\choose 2}{3\\choose 3}{3\\choose 2}^2{3\\choose 1}^3}{18\\choose 10}$ <br/>\n",
    "2-2-2-2-2-0 (no): $\\frac{{6\\choose 5}{3\\choose 2}^5{3\\choose 0}}{18\\choose 10}$ <br/>\n",
    "2-2-2-2-1-1 (yes): $\\frac{{6\\choose 4}{3\\choose 2}^4{3\\choose 1}^2}{18\\choose 10}$"
   ]
  },
  {
   "cell_type": "code",
   "execution_count": 8,
   "metadata": {},
   "outputs": [
    {
     "data": {
      "text/plain": [
       "0.3891402714932127"
      ]
     },
     "execution_count": 8,
     "metadata": {},
     "output_type": "execute_result"
    }
   ],
   "source": [
    "(factorial(6) // factorial(3)**2 * 3 * 3 +\\\n",
    "factorial(6) // (factorial(4)*factorial(2)) * factorial(4) // factorial(2)**2 * 3**2 +\\\n",
    "factorial(6) // (factorial(2)*factorial(4)) * 4 * 3 * 3 * 3**2 +\\\n",
    "6 * factorial(5) // (factorial(3)*factorial(2)) * 2 * 3**3 * 3 +\\\n",
    "6 * 3**5)/ denom"
   ]
  },
  {
   "cell_type": "markdown",
   "metadata": {},
   "source": [
    "## 4 of each:\n",
    "\n",
    "Drawing 10: All possibilities:\n",
    "\n",
    "- 4-4-2-0-0-0 (no)\n",
    "- 4-4-1-1-0-0 (no)\n",
    "- 4-3-3-0-0-0 (no)\n",
    "- 4-3-2-1-0-0 (no)\n",
    "- 4-3-1-1-1-0 (no)\n",
    "- 4-2-2-2-0-0 (no)\n",
    "- 4-2-2-1-1-0 (no)\n",
    "- 4-2-1-1-1-1 (yes)\n",
    "- 3-3-3-1-0-0 (no)\n",
    "- 3-3-2-2-0-0 (no)\n",
    "- 3-3-2-1-1-0 (no)\n",
    "- 3-3-1-1-1-1 (yes)\n",
    "- 3-2-2-2-1-0 (no)\n",
    "- 3-2-2-1-1-1 (yes)\n",
    "- 2-2-2-2-2-0 (no)\n",
    "- 2-2-2-2-1-1 (yes)\n",
    "\n",
    "Success:\n",
    "\n",
    "$\\large\\frac{{6\\choose 1}{5\\choose 1}{4\\choose 4}{4\\choose 2}{4\\choose 1}^4}{24\\choose 10} + \\frac{{6\\choose 2}{4\\choose 3}^2{4\\choose 1}^4}{24\\choose 10} + \\frac{{6\\choose 1}{5\\choose 2}{4\\choose 3}{4\\choose 2}^2{4\\choose 1}^3}{24\\choose 10} + \\frac{{6\\choose 4}{4\\choose 2}^4{4\\choose 1}^2}{24\\choose 10}$"
   ]
  },
  {
   "cell_type": "code",
   "execution_count": 9,
   "metadata": {},
   "outputs": [],
   "source": [
    "denom = factorial(24) // (factorial(10)*factorial(14))"
   ]
  },
  {
   "cell_type": "code",
   "execution_count": 10,
   "metadata": {},
   "outputs": [
    {
     "data": {
      "text/plain": [
       "0.4953560371517028"
      ]
     },
     "execution_count": 10,
     "metadata": {},
     "output_type": "execute_result"
    }
   ],
   "source": [
    "(6 * 5 * 6 * 4**4 + 15 * 4**2 * 4**4 + 6 * 10 * 4 * 6**2 * 4**3 + 15 * 6**4 * 4**2) / denom"
   ]
  },
  {
   "cell_type": "markdown",
   "metadata": {},
   "source": [
    "Drawing 11: All possibilities:\n",
    "\n",
    "- 4-4-2-1-0-0 (no)\n",
    "- 4-4-1-1-1-0 (no)\n",
    "- 4-3-3-1-0-0 (no)\n",
    "- 4-3-2-2-0-0 (no)\n",
    "- 4-3-2-1-1-0 (no)\n",
    "- 4-3-1-1-1-1 (yes)\n",
    "- 4-2-2-2-1-0 (no)\n",
    "- 4-2-2-1-1-1 (yes)\n",
    "- 3-3-3-2-0-0 (no)\n",
    "- 3-3-3-1-1-0 (no)\n",
    "- 3-3-2-2-1-0 (no)\n",
    "- 3-3-2-1-1-1 (yes)\n",
    "- 3-2-2-2-2-0 (no)\n",
    "- 3-2-2-2-1-1 (yes)\n",
    "- 2-2-2-2-2-1 (yes)\n",
    "\n",
    "Success:\n",
    "\n",
    "$\\large\\frac{{6\\choose 1}{5\\choose 1}{4\\choose 4}{4\\choose 3}{4\\choose 1}^4}{24\\choose 11} + \\frac{{6\\choose 1}{5\\choose 2}{4\\choose 4}{4\\choose 2}^2{4\\choose 1}^3}{24\\choose 11} + \\frac{{6\\choose 2}{5\\choose 1}{4\\choose 3}^2{4\\choose 2}{4\\choose 1}^3}{24\\choose 11} + \\frac{{6\\choose 1}{5\\choose 3}{4\\choose 3}{4\\choose 2}^3{4\\choose 1}^2}{24\\choose 11} + \\frac{{6\\choose 5}{4\\choose 2}^5{4\\choose 1}}{24\\choose 11}$"
   ]
  },
  {
   "cell_type": "code",
   "execution_count": 11,
   "metadata": {},
   "outputs": [],
   "source": [
    "denom = factorial(24) // (factorial(11)*factorial(13))"
   ]
  },
  {
   "cell_type": "code",
   "execution_count": 12,
   "metadata": {},
   "outputs": [
    {
     "data": {
      "text/plain": [
       "0.6593465761590678"
      ]
     },
     "execution_count": 12,
     "metadata": {},
     "output_type": "execute_result"
    }
   ],
   "source": [
    "(6 * 5 * 4 * 4**4 + 6 * 10 * 6**2 * 4**3 + 15 * 5 * 4**2 * 6 * 4**3 + 6 * 10 * 4 * 6**3 * 4**2 + 6 * 6**5 * 4) / denom"
   ]
  },
  {
   "cell_type": "markdown",
   "metadata": {},
   "source": [
    "## General Formulas"
   ]
  },
  {
   "cell_type": "markdown",
   "metadata": {},
   "source": [
    "- As $n\\rightarrow\\infty$, the chance of drawing one of each of $k$ colors on $k$ draws approaches $\\large\\frac{(k-1)!}{k^{k-1}}$, which is the relevant probability for the same scenario *with replacement*.\n",
    "\n",
    "- Chances of success:\n",
    "    - $k$ colors, drawing $k$:\n",
    "    $\\large\\frac{n^k}{kn\\choose k}$\n",
    "\n",
    "    - $k$ colors, drawing $k+1$:\n",
    "    $\\large\\frac{k{n\\choose 2}n^{k-1}}{kn\\choose k+1}$\n",
    "\n",
    "    - $k$ colors, drawing $k+2$, $n\\geq 3$:\n",
    "    $\\large\\frac{{k\\choose 2}n^{k-2}{n\\choose 2}^2 + kn^{k-1}{n\\choose 3}}{kn\\choose k+2}$\n",
    "    \n",
    "    - $k$ colors, drawing $k+3$, $n\\geq 4$:\n",
    "    $\\large\\frac{{k\\choose 3}{n\\choose 2}^3{n\\choose 1}^{k-3} + {k\\choose 1}{k-1\\choose 1}{n\\choose 3}{n\\choose 2}{n\\choose 1}^{k-2} + {k\\choose 1}{n\\choose 4}{n\\choose 1}^{k-1}}{kn\\choose k+3}$"
   ]
  },
  {
   "cell_type": "code",
   "execution_count": 5,
   "metadata": {},
   "outputs": [],
   "source": [
    "def choose(a, b):\n",
    "    from math import factorial\n",
    "    if a >= b:\n",
    "        return factorial(a) // (factorial(b)*factorial(a-b))\n",
    "    else:\n",
    "        return 0"
   ]
  },
  {
   "cell_type": "code",
   "execution_count": 2,
   "metadata": {},
   "outputs": [],
   "source": [
    "def k_colors_on_k_draws(n, k):\n",
    "    from math import factorial\n",
    "    \n",
    "    return n**k / (factorial(k*n) // (factorial(k)*factorial(k*n-k)))\n",
    "\n",
    "def k_colors_on_k_plus_one_draws(n, k):\n",
    "    from math import factorial\n",
    "    \n",
    "    return (k * factorial(n) // (factorial(2)*factorial(n-2)) * n**(k-1)) /\\\n",
    "(factorial(k*n) // (factorial(k+1)*factorial(k*n-(k+1))))\n",
    "\n",
    "def k_colors_on_k_plus_two_draws(n, k):\n",
    "    from math import factorial\n",
    "    \n",
    "    if n >= 3:\n",
    "        return ((factorial(k) // (factorial(2)*factorial(k-2))) * n**(k-2) *\\\n",
    "                (factorial(n) // (factorial(2)*factorial(n-2)))**2 + k * n**(k-1) *\\\n",
    "                (factorial(n) // (factorial(3)*factorial(n-3)))) /\\\n",
    "                (factorial(k*n) // (factorial(k+2)*factorial(k*n-(k+2))))\n",
    "    else:\n",
    "        print('Please choose a larger n')\n",
    "        \n",
    "def k_colors_on_k_plus_three_draws(n, k):\n",
    "    from math import factorial\n",
    "    \n",
    "    if n >= 4:\n",
    "        return ((factorial(k) // (factorial(3)*factorial(k-3))) *\\\n",
    "                (factorial(n) // (factorial(2)*factorial(n-2)))**3 * n**(k-3) +\\\n",
    "                k * (k-1) * (factorial(n) // (factorial(3)*factorial(n-3))) *\\\n",
    "                (factorial(n) // (factorial(2)*factorial(n-2))) * n**(k-2) +\\\n",
    "                k * (factorial(n) // (factorial(4)*factorial(n-4))) * n**(k-1)) /\\\n",
    "                (factorial(k*n) // (factorial(k+3)*factorial(k*n-(k+3))))\n",
    "    else:\n",
    "        print('Please choose a larger n')\n",
    "        \n",
    "def k_colors_on_k_plus_four_draws(n, k):\n",
    "    from math import factorial\n",
    "    \n",
    "    if n >= 5:\n",
    "        return ((factorial(k) // (factorial(4)*factorial(k-4))) *\\\n",
    "               (factorial(n) // (factorial(2)*factorial(n-2)))**4 * n**(k-4) +\\\n",
    "                (factorial(k) // (factorial(2)*factorial(k-2))) *\\\n",
    "                (factorial(n) // (factorial(3)*factorial(n-3)))**2 * n**(k-2) +\\\n",
    "                k * (factorial(k-1) // (factorial(2)*factorial(k-3))) *\\\n",
    "                (factorial(n) // (factorial(3)*factorial(n-3))) *\\\n",
    "                (factorial(n) // (factorial(2)*factorial(n-2)))**2 * n**(k-3) +\\\n",
    "                k * (k-1) * (factorial(n) // (factorial(4)*factorial(n-4))) *\\\n",
    "                (factorial(n) // (factorial(2)*factorial(n-2))) * n**(k-2) +\\\n",
    "                k * (factorial(n) // (factorial(5)*factorial(n-5))) * n**(k-1)) /\\\n",
    "                (factorial(k*n) // (factorial(k+4)*factorial(k*n-(k+4))))\n",
    "    else:\n",
    "        print('Please choose a larger n')\n",
    "\n",
    "def k_colors_on_k_plus_five_draws(n, k):\n",
    "    from math import factorial\n",
    "    \n",
    "    if n>= 6:\n",
    "        return ((factorial(k) // (factorial(5)*factorial(k-5))) *\\\n",
    "               (factorial(n) // (factorial(2)*factorial(n-2)))**5 * n**(k-5) +\\\n",
    "               (factorial(k) // (factorial(2)*factorial(k-2))) *\\\n",
    "               (k-2) * (factorial(n) // (factorial(3)*factorial(n-3)))**2 *\\\n",
    "                (factorial(n) // (factorial(2)*factorial(n-2))) * n**(k-3) +\\\n",
    "                k * (factorial(k-1) // (factorial(3)*factorial(k-4))) *\\\n",
    "                (factorial(n) // (factorial(3)*factorial(n-3))) *\\\n",
    "                (factorial(n) // (factorial(2)*factorial(n-2)))**3 * n**(k-4) +\\\n",
    "                k * (k-1) * (factorial(n) // (factorial(4)*factorial(n-4))) *\\\n",
    "                (factorial(n) // (factorial(3)*factorial(n-3))) * n**(k-2) +\\\n",
    "                k * (factorial(k-1) // (factorial(2)*factorial(k-3))) *\\\n",
    "                (factorial(n) // (factorial(4)*factorial(n-4))) *\\\n",
    "                (factorial(n) // (factorial(2)*factorial(n-2)))**2 * n**(k-3) +\\\n",
    "                k * (k-1) * (factorial(n) // (factorial(5)*factorial(n-5))) *\\\n",
    "                (factorial(n) // (factorial(2)*factorial(n-2))) * n**(k-2) +\\\n",
    "                k * (factorial(n) // (factorial(6)*factorial(n-6))) * n**(k-1)) /\\\n",
    "                (factorial(k*n) // (factorial(k+5)*factorial(k*n-(k+5))))\n",
    "    else:\n",
    "        print('Please choose a larger n')"
   ]
  },
  {
   "cell_type": "markdown",
   "metadata": {},
   "source": [
    "### Three Colors\n",
    "\n",
    "3 colors, drawing 3:\n",
    "$\\large\\frac{n^3}{3n\\choose 3}$"
   ]
  },
  {
   "cell_type": "code",
   "execution_count": 4,
   "metadata": {
    "scrolled": true
   },
   "outputs": [
    {
     "data": {
      "image/png": "[encoded data removed]",
      "text/plain": [
       "<Figure size 576x432 with 1 Axes>"
      ]
     },
     "metadata": {},
     "output_type": "display_data"
    }
   ],
   "source": [
    "import numpy as np\n",
    "from matplotlib import pyplot as plt\n",
    "\n",
    "fig, ax = plt.subplots(figsize=(8, 6))\n",
    "plt.style.use('ggplot')\n",
    "\n",
    "x3_3 = np.arange(2, 10)\n",
    "y3_3 = [elem**3 / (factorial(3*elem) // (factorial(3)*factorial(3*elem-3))) for elem in x3_3]\n",
    "\n",
    "\n",
    "ax.scatter(x3_3, y3_3);"
   ]
  },
  {
   "cell_type": "code",
   "execution_count": 15,
   "metadata": {},
   "outputs": [
    {
     "data": {
      "text/plain": [
       "0.4"
      ]
     },
     "execution_count": 15,
     "metadata": {},
     "output_type": "execute_result"
    }
   ],
   "source": [
    "k_colors_on_k_draws(2, 3)"
   ]
  },
  {
   "cell_type": "markdown",
   "metadata": {},
   "source": [
    "3 colors, drawing 4:\n",
    "$\\large\\frac{3n^2{n\\choose 2}}{3n\\choose 4}$"
   ]
  },
  {
   "cell_type": "code",
   "execution_count": 16,
   "metadata": {},
   "outputs": [
    {
     "data": {
      "image/png": "[encoded data removed]",
      "text/plain": [
       "<Figure size 576x432 with 1 Axes>"
      ]
     },
     "metadata": {},
     "output_type": "display_data"
    }
   ],
   "source": [
    "fig, ax = plt.subplots(figsize=(8, 6))\n",
    "\n",
    "x3_4 = np.arange(2, 10)\n",
    "y3_4 = [(3* elem**2 * factorial(elem) // (factorial(2)*factorial(elem-2))) /\\\n",
    "      (factorial(3*elem) // (factorial(4)*factorial(3*elem-4))) for elem in x3_4]\n",
    "\n",
    "ax.scatter(x3_4, y3_4);"
   ]
  },
  {
   "cell_type": "code",
   "execution_count": 17,
   "metadata": {},
   "outputs": [
    {
     "data": {
      "text/plain": [
       "0.49846153846153846"
      ]
     },
     "execution_count": 17,
     "metadata": {},
     "output_type": "execute_result"
    }
   ],
   "source": [
    "y3_4[-1]"
   ]
  },
  {
   "cell_type": "code",
   "execution_count": 18,
   "metadata": {},
   "outputs": [
    {
     "data": {
      "text/plain": [
       "0.5494505494505495"
      ]
     },
     "execution_count": 18,
     "metadata": {},
     "output_type": "execute_result"
    }
   ],
   "source": [
    "k_colors_on_k_plus_one_draws(5, 3)"
   ]
  },
  {
   "cell_type": "code",
   "execution_count": 19,
   "metadata": {},
   "outputs": [
    {
     "data": {
      "text/plain": [
       "0.49846153846153846"
      ]
     },
     "execution_count": 19,
     "metadata": {},
     "output_type": "execute_result"
    }
   ],
   "source": [
    "k_colors_on_k_plus_one_draws(9, 3)"
   ]
  },
  {
   "cell_type": "markdown",
   "metadata": {},
   "source": [
    "3 colors, drawing 5:\n",
    "\n",
    "$\\large\\frac{3n{n\\choose 2}^2}{3n\\choose 5}, n=2$\n",
    "\n",
    "$\\large\\frac{3n{n\\choose 2}^2 + 3n^2{n\\choose 3}}{3n\\choose 5}, n\\geq 3$"
   ]
  },
  {
   "cell_type": "code",
   "execution_count": 20,
   "metadata": {
    "scrolled": true
   },
   "outputs": [
    {
     "data": {
      "image/png": "[encoded data removed]",
      "text/plain": [
       "<Figure size 576x432 with 1 Axes>"
      ]
     },
     "metadata": {},
     "output_type": "display_data"
    }
   ],
   "source": [
    "fig, ax = plt.subplots(figsize=(8, 6))\n",
    "\n",
    "x3_5 = np.arange(9, 20)\n",
    "\n",
    "y3_5 = [(3 * elem * (elem * factorial(elem) // (factorial(3)*factorial(elem-3)) +\\\n",
    "                   (factorial(elem) // (factorial(2)*factorial(elem-2)))**2))\\\n",
    "      / (factorial(3*elem) // (factorial(5)*factorial(3*elem-5))) for elem in x3_5]\n",
    "\n",
    "ax.scatter(x3_5, y3_5);"
   ]
  },
  {
   "cell_type": "code",
   "execution_count": 21,
   "metadata": {},
   "outputs": [
    {
     "data": {
      "text/plain": [
       "0.6486972147349506"
      ]
     },
     "execution_count": 21,
     "metadata": {},
     "output_type": "execute_result"
    }
   ],
   "source": [
    "y3_5[-1]"
   ]
  },
  {
   "cell_type": "code",
   "execution_count": 22,
   "metadata": {},
   "outputs": [
    {
     "data": {
      "text/plain": [
       "0.6175721125057155"
      ]
     },
     "execution_count": 22,
     "metadata": {},
     "output_type": "execute_result"
    }
   ],
   "source": [
    "k_colors_on_k_plus_two_draws(2000, 3)"
   ]
  },
  {
   "cell_type": "code",
   "execution_count": 23,
   "metadata": {},
   "outputs": [
    {
     "data": {
      "image/png": "[encoded data removed]",
      "text/plain": [
       "<Figure size 864x432 with 1 Axes>"
      ]
     },
     "metadata": {},
     "output_type": "display_data"
    }
   ],
   "source": [
    "fig, ax = plt.subplots(figsize=(12, 6))\n",
    "\n",
    "x3 = np.arange(2, 20)\n",
    "\n",
    "y3_4.extend([np.nan]*10)\n",
    "y3b = [np.nan]*7\n",
    "y3b.extend(y3_5)\n",
    "\n",
    "ax.scatter(x3, y3_4, marker='$4$')\n",
    "ax.scatter(x3, y3b, marker='$5$')\n",
    "plt.xticks(x3);"
   ]
  },
  {
   "cell_type": "markdown",
   "metadata": {},
   "source": [
    "**For 3 colors, I need to draw**:\n",
    "- 4 if I have 2-8 of each color;\n",
    "- 5 If I have 9+ of each color."
   ]
  },
  {
   "cell_type": "markdown",
   "metadata": {},
   "source": [
    "### Four Colors\n",
    "\n",
    "4 colors, drawing 4:\n",
    "$\\large\\frac{n^4}{4n\\choose 4}$"
   ]
  },
  {
   "cell_type": "code",
   "execution_count": 24,
   "metadata": {
    "scrolled": true
   },
   "outputs": [
    {
     "data": {
      "image/png": "[encoded data removed]",
      "text/plain": [
       "<Figure size 576x432 with 1 Axes>"
      ]
     },
     "metadata": {},
     "output_type": "display_data"
    }
   ],
   "source": [
    "fig, ax = plt.subplots(figsize=(8, 6))\n",
    "\n",
    "x4_4 = np.arange(2, 10)\n",
    "y4_4 = [elem**4 / (factorial(4*elem) // (factorial(4)*factorial(4*elem-4))) for elem in x4_4]\n",
    "\n",
    "ax.scatter(x4_4, y4_4);"
   ]
  },
  {
   "cell_type": "code",
   "execution_count": 25,
   "metadata": {},
   "outputs": [
    {
     "data": {
      "text/plain": [
       "0.16363636363636364"
      ]
     },
     "execution_count": 25,
     "metadata": {},
     "output_type": "execute_result"
    }
   ],
   "source": [
    "k_colors_on_k_draws(3, 4)"
   ]
  },
  {
   "cell_type": "markdown",
   "metadata": {},
   "source": [
    "4 colors, drawing 5:\n",
    "$\\large\\frac{{4\\choose 1}{n\\choose 2}{n\\choose 1}^3}{4n\\choose 5}$"
   ]
  },
  {
   "cell_type": "code",
   "execution_count": 26,
   "metadata": {},
   "outputs": [
    {
     "data": {
      "image/png": "[encoded data removed]",
      "text/plain": [
       "<Figure size 576x432 with 1 Axes>"
      ]
     },
     "metadata": {},
     "output_type": "display_data"
    }
   ],
   "source": [
    "fig, ax = plt.subplots(figsize=(8, 6))\n",
    "\n",
    "x4_5 = np.arange(2, 10)\n",
    "\n",
    "y4_5 = [(4*factorial(elem) // (factorial(2)*factorial(elem-2)) * elem**3) /\\\n",
    "        (factorial(4*elem) // (factorial(5)*factorial(4*elem-5))) for elem in x4_5]\n",
    "\n",
    "ax.scatter(x4_5, y4_5);"
   ]
  },
  {
   "cell_type": "code",
   "execution_count": 27,
   "metadata": {},
   "outputs": [
    {
     "data": {
      "text/plain": [
       "0.5714285714285714"
      ]
     },
     "execution_count": 27,
     "metadata": {},
     "output_type": "execute_result"
    }
   ],
   "source": [
    "y4_5[0]"
   ]
  },
  {
   "cell_type": "code",
   "execution_count": 28,
   "metadata": {},
   "outputs": [
    {
     "data": {
      "text/plain": [
       "0.5714285714285714"
      ]
     },
     "execution_count": 28,
     "metadata": {},
     "output_type": "execute_result"
    }
   ],
   "source": [
    "k_colors_on_k_plus_one_draws(2, 4)"
   ]
  },
  {
   "cell_type": "markdown",
   "metadata": {},
   "source": [
    "4 colors, drawing 6:\n",
    "\n",
    "$\\large\\frac{{4\\choose 2}{n\\choose 2}^2{n\\choose 1}^2}{4n\\choose 6}, n=2$\n",
    "\n",
    "$\\large\\frac{{4\\choose 2}{n\\choose 2}^2{n\\choose 1}^2 + {4\\choose 1}{n\\choose 3}{n\\choose 1}^3}{4n\\choose 6}, n\\geq 3$"
   ]
  },
  {
   "cell_type": "code",
   "execution_count": 29,
   "metadata": {},
   "outputs": [
    {
     "data": {
      "image/png": "[encoded data removed]",
      "text/plain": [
       "<Figure size 576x432 with 1 Axes>"
      ]
     },
     "metadata": {},
     "output_type": "display_data"
    }
   ],
   "source": [
    "fig, ax = plt.subplots(figsize=(8, 6))\n",
    "\n",
    "x4_6 = np.arange(3, 7)\n",
    "\n",
    "y4_6 = [(6 * (factorial(elem) // (factorial(2)*factorial(elem-2)))**2 * elem**2 +\\\n",
    "              4 * (factorial(elem) // (factorial(3)*factorial(elem-3))) * elem**3) /\\\n",
    "            (factorial(4*elem) // (factorial(6)*factorial(4*elem-6))) for elem in x4_6]\n",
    "\n",
    "ax.scatter(x4_6, y4_6);"
   ]
  },
  {
   "cell_type": "code",
   "execution_count": 30,
   "metadata": {},
   "outputs": [
    {
     "data": {
      "text/plain": [
       "0.48946476864097"
      ]
     },
     "execution_count": 30,
     "metadata": {},
     "output_type": "execute_result"
    }
   ],
   "source": [
    "y4_6[3]"
   ]
  },
  {
   "cell_type": "code",
   "execution_count": 31,
   "metadata": {},
   "outputs": [
    {
     "data": {
      "text/plain": [
       "0.48946476864097"
      ]
     },
     "execution_count": 31,
     "metadata": {},
     "output_type": "execute_result"
    }
   ],
   "source": [
    "k_colors_on_k_plus_two_draws(6, 4)"
   ]
  },
  {
   "cell_type": "markdown",
   "metadata": {},
   "source": [
    "4 colors, drawing 7:\n",
    "\n",
    "$\\large\\frac{{4\\choose 3}{n\\choose 2}^3{n\\choose 1}}{4n\\choose 7}, n=2$\n",
    "\n",
    "$\\large\\frac{{4\\choose 3}{n\\choose 2}^3{n\\choose 1} + {4\\choose 1}{3\\choose 1}{n\\choose 3}{n\\choose 2}{n\\choose 1}^2}{4n\\choose 7}, n=3$\n",
    "\n",
    "$\\large\\frac{{4\\choose 3}{n\\choose 2}^3{n\\choose 1} + {4\\choose 1}{3\\choose 1}{n\\choose 3}{n\\choose 2}{n\\choose 1}^2 + {4\\choose 1}{n\\choose 4}{n\\choose 1}^3}{4n\\choose 7}, n\\geq 4$"
   ]
  },
  {
   "cell_type": "code",
   "execution_count": 32,
   "metadata": {},
   "outputs": [
    {
     "data": {
      "image/png": "[encoded data removed]",
      "text/plain": [
       "<Figure size 576x432 with 1 Axes>"
      ]
     },
     "metadata": {},
     "output_type": "display_data"
    }
   ],
   "source": [
    "fig, ax = plt.subplots(figsize=(8, 6))\n",
    "\n",
    "x4_7 = np.arange(6, 20)\n",
    "\n",
    "y4_7 = [(4*(factorial(elem) // (factorial(2)*factorial(elem-2)))**3 * elem +\\\n",
    "             4*3*(factorial(elem) // (factorial(3)*factorial(elem-3))) *\\\n",
    "              (factorial(elem) // (factorial(2)*factorial(elem-2))) * elem**2 +\\\n",
    "              4*(factorial(elem) // (factorial(4)*factorial(elem-4))) * elem**3) /\\\n",
    "            (factorial(4*elem) // (factorial(7)*factorial(4*elem-7))) for elem in x4_7]\n",
    "\n",
    "ax.scatter(x4_7, y4_7);"
   ]
  },
  {
   "cell_type": "code",
   "execution_count": 33,
   "metadata": {},
   "outputs": [
    {
     "data": {
      "text/plain": [
       "0.51276453226352"
      ]
     },
     "execution_count": 33,
     "metadata": {},
     "output_type": "execute_result"
    }
   ],
   "source": [
    "k_colors_on_k_plus_three_draws(10000, 4)"
   ]
  },
  {
   "cell_type": "code",
   "execution_count": 34,
   "metadata": {},
   "outputs": [
    {
     "data": {
      "image/png": "[encoded data removed]",
      "text/plain": [
       "<Figure size 864x432 with 1 Axes>"
      ]
     },
     "metadata": {},
     "output_type": "display_data"
    }
   ],
   "source": [
    "fig, ax = plt.subplots(figsize=(12, 6))\n",
    "\n",
    "x4 = np.arange(2, 20)\n",
    "y4 = [y4_5[0]]\n",
    "y4.extend([np.nan]*17)\n",
    "y4b = [np.nan]\n",
    "y4b.extend(y4_6)\n",
    "y4b.extend([np.nan]*13)\n",
    "y4c = [np.nan]*4\n",
    "y4c.extend(y4_7)\n",
    "\n",
    "ax.scatter(x4, y4, marker='$5$')\n",
    "ax.scatter(x4, y4b, marker='$6$')\n",
    "ax.scatter(x4, y4c, marker='$7$')\n",
    "plt.xticks(x4);"
   ]
  },
  {
   "cell_type": "markdown",
   "metadata": {},
   "source": [
    "**For four colors, I need to draw**:\n",
    "- 5 if I have 2 of each color;\n",
    "- 6 if I have 3-5 of each color;\n",
    "- 7 if I have 6+ of each color."
   ]
  },
  {
   "cell_type": "markdown",
   "metadata": {},
   "source": [
    "### Five Colors"
   ]
  },
  {
   "cell_type": "markdown",
   "metadata": {},
   "source": [
    "5 colors, drawing 5:\n",
    "$\\large\\frac{n^5}{5n\\choose 5}$"
   ]
  },
  {
   "cell_type": "code",
   "execution_count": 35,
   "metadata": {},
   "outputs": [
    {
     "data": {
      "image/png": "[encoded data removed]",
      "text/plain": [
       "<Figure size 576x432 with 1 Axes>"
      ]
     },
     "metadata": {},
     "output_type": "display_data"
    }
   ],
   "source": [
    "fig, ax = plt.subplots(figsize=(8, 6))\n",
    "\n",
    "x5_5 = np.arange(2, 10)\n",
    "y5_5 = [elem**5 / (factorial(5*elem) // (factorial(5)*factorial(5*elem-5))) for elem in x5_5]\n",
    "\n",
    "ax.scatter(x5_5, y5_5);"
   ]
  },
  {
   "cell_type": "code",
   "execution_count": 36,
   "metadata": {},
   "outputs": [
    {
     "data": {
      "text/plain": [
       "0.12698412698412698"
      ]
     },
     "execution_count": 36,
     "metadata": {},
     "output_type": "execute_result"
    }
   ],
   "source": [
    "k_colors_on_k_draws(2, 5)"
   ]
  },
  {
   "cell_type": "markdown",
   "metadata": {},
   "source": [
    "5 colors, drawing 6:\n",
    "$\\large\\frac{5{n\\choose 2}{n\\choose 1}^4}{5n\\choose 6}$"
   ]
  },
  {
   "cell_type": "code",
   "execution_count": 37,
   "metadata": {},
   "outputs": [
    {
     "data": {
      "image/png": "[encoded data removed]",
      "text/plain": [
       "<Figure size 576x432 with 1 Axes>"
      ]
     },
     "metadata": {},
     "output_type": "display_data"
    }
   ],
   "source": [
    "fig, ax = plt.subplots(figsize=(8, 6))\n",
    "\n",
    "x5_6 = np.arange(2, 10)\n",
    "y5_6 = [(5*(factorial(elem) // (factorial(2)*factorial(elem-2))) * elem**4) /\\\n",
    "        (factorial(5*elem) // (factorial(6)*factorial(5*elem-6))) for elem in x5_6]\n",
    "\n",
    "ax.scatter(x5_6, y5_6);"
   ]
  },
  {
   "cell_type": "code",
   "execution_count": 38,
   "metadata": {},
   "outputs": [
    {
     "data": {
      "text/plain": [
       "0.24275724275724275"
      ]
     },
     "execution_count": 38,
     "metadata": {},
     "output_type": "execute_result"
    }
   ],
   "source": [
    "k_colors_on_k_plus_one_draws(3, 5)"
   ]
  },
  {
   "cell_type": "markdown",
   "metadata": {},
   "source": [
    "5 colors, drawing 7:\n",
    "\n",
    "$\\large\\frac{{5\\choose 2}{n\\choose 2}^2{n\\choose 1}^3}{5n\\choose 7}, n=2$\n",
    "\n",
    "$\\large\\frac{{5\\choose 2}{n\\choose 2}^2{n\\choose 1}^3 + {5\\choose 1}{n\\choose 3}{n\\choose 1}^4}{5n\\choose 7}, n\\geq 3$"
   ]
  },
  {
   "cell_type": "code",
   "execution_count": 39,
   "metadata": {},
   "outputs": [
    {
     "data": {
      "image/png": "[encoded data removed]",
      "text/plain": [
       "<Figure size 576x432 with 1 Axes>"
      ]
     },
     "metadata": {},
     "output_type": "display_data"
    }
   ],
   "source": [
    "fig, ax = plt.subplots(figsize=(8, 6))\n",
    "\n",
    "x5_7 = np.arange(2, 10)\n",
    "y5_7 = [(10*2**3) / 120]\n",
    "y5_7.extend([(10*(factorial(elem) // (factorial(2)*factorial(elem-2)))**2 * elem**3 +\\\n",
    "              5*(factorial(elem) // (factorial(3)*factorial(elem-3))) * elem**4) /\\\n",
    "            (factorial(5*elem) // (factorial(7)*factorial(5*elem-7))) for elem in x5_7[1:]])\n",
    "\n",
    "ax.scatter(x5_7, y5_7);"
   ]
  },
  {
   "cell_type": "code",
   "execution_count": 40,
   "metadata": {},
   "outputs": [
    {
     "data": {
      "text/plain": [
       "0.4405594405594406"
      ]
     },
     "execution_count": 40,
     "metadata": {},
     "output_type": "execute_result"
    }
   ],
   "source": [
    "k_colors_on_k_plus_two_draws(3, 5)"
   ]
  },
  {
   "cell_type": "markdown",
   "metadata": {},
   "source": [
    "5 colors, drawing 8:\n",
    "\n",
    "$\\large\\frac{{5\\choose 3}{n\\choose 2}^3{n\\choose 1}^2}{5n\\choose 8}, n=2$\n",
    "\n",
    "$\\large\\frac{{5\\choose 3}{n\\choose 2}^3{n\\choose 1}^2 + {5\\choose 1}{4\\choose 1}{n\\choose 3}{n\\choose 2}{n\\choose 1}^3}{5n\\choose 8}, n=3$\n",
    "\n",
    "$\\large\\frac{{5\\choose 3}{n\\choose 2}^3{n\\choose 1}^2 + {5\\choose 1}{4\\choose 1}{n\\choose 3}{n\\choose 2}{n\\choose 1}^3 + {5\\choose 1}{n\\choose 4}{n\\choose 1}^4}{5n\\choose 8}, n\\geq 4$"
   ]
  },
  {
   "cell_type": "code",
   "execution_count": 41,
   "metadata": {
    "scrolled": true
   },
   "outputs": [
    {
     "data": {
      "image/png": "[encoded data removed]",
      "text/plain": [
       "<Figure size 576x432 with 1 Axes>"
      ]
     },
     "metadata": {},
     "output_type": "display_data"
    }
   ],
   "source": [
    "fig, ax = plt.subplots(figsize=(8, 6))\n",
    "\n",
    "x5_8 = np.arange(3, 10)\n",
    "\n",
    "y5_8 = [(10 * 3**3 * 3**2 + 5*4*3 * 3**3) / 6435]\n",
    "\n",
    "y5_8.extend([(10*(factorial(elem) // (factorial(2)*factorial(elem-2)))**3 * elem**2 +\\\n",
    "             5*4*(factorial(elem) // (factorial(3)*factorial(elem-3))) *\\\n",
    "             (factorial(elem) // (factorial(2)*factorial(elem-2))) * elem**3 +\\\n",
    "              5 * (factorial(elem) // (factorial(4)*factorial(elem-4))) * elem**4) /\\\n",
    "            (factorial(5*elem) // (factorial(8)*factorial(5*elem-8))) for elem in x5_8[1:]])\n",
    "\n",
    "ax.scatter(x5_8, y5_8);"
   ]
  },
  {
   "cell_type": "code",
   "execution_count": 42,
   "metadata": {},
   "outputs": [
    {
     "data": {
      "text/plain": [
       "0.5283797729618163"
      ]
     },
     "execution_count": 42,
     "metadata": {},
     "output_type": "execute_result"
    }
   ],
   "source": [
    "k_colors_on_k_plus_three_draws(4, 5)"
   ]
  },
  {
   "cell_type": "code",
   "execution_count": 43,
   "metadata": {},
   "outputs": [
    {
     "data": {
      "text/plain": [
       "0.4767353165522502"
      ]
     },
     "execution_count": 43,
     "metadata": {},
     "output_type": "execute_result"
    }
   ],
   "source": [
    "k_colors_on_k_plus_three_draws(5, 5)"
   ]
  },
  {
   "cell_type": "markdown",
   "metadata": {},
   "source": [
    "5 colors, drawing 9:\n",
    "\n",
    "$\\large\\frac{{5\\choose 4}{n\\choose 2}^4{n\\choose 1}}{5n\\choose 9}, n=2$\n",
    "\n",
    "$\\large\\frac{{5\\choose 4}{n\\choose 2}^4{n\\choose 1} + {5\\choose 2}{n\\choose 3}^2{n\\choose 1}^3 + {5\\choose 1}{4\\choose 2}{n\\choose 3}{n\\choose 2}^2{n\\choose 1}^2}{5n\\choose 9}, n=3$\n",
    "\n",
    "$\\large\\frac{{5\\choose 4}{n\\choose 2}^4{n\\choose 1} + {5\\choose 2}{n\\choose 3}^2{n\\choose 1}^3 + {5\\choose 1}{4\\choose 2}{n\\choose 3}{n\\choose 2}^2{n\\choose 1}^2 + {5\\choose 1}{4\\choose 1}{n\\choose 4}{n\\choose 2}{n\\choose 1}^3}{5n\\choose 9}, n=4$\n",
    "\n",
    "$\\large\\frac{{5\\choose 4}{n\\choose 2}^4{n\\choose 1} + {5\\choose 2}{n\\choose 3}^2{n\\choose 1}^3 + {5\\choose 1}{4\\choose 2}{n\\choose 3}{n\\choose 2}^2{n\\choose 1}^2 + {5\\choose 1}{4\\choose 1}{n\\choose 4}{n\\choose 2}{n\\choose 1}^3 + {5\\choose 1}{n\\choose 5}{n\\choose 1}^4}{5n\\choose 9}, n\\geq 5$"
   ]
  },
  {
   "cell_type": "code",
   "execution_count": 44,
   "metadata": {},
   "outputs": [
    {
     "data": {
      "image/png": "[encoded data removed]",
      "text/plain": [
       "<Figure size 576x432 with 1 Axes>"
      ]
     },
     "metadata": {},
     "output_type": "display_data"
    }
   ],
   "source": [
    "fig, ax = plt.subplots(figsize=(8, 6))\n",
    "\n",
    "x5_9 = np.arange(5, 13)\n",
    "\n",
    "y5_9 = [(5*(factorial(elem) // (factorial(2)*factorial(elem-2)))**4 * elem +\\\n",
    "        10*(factorial(elem) // (factorial(3)*factorial(elem-3)))**2 * elem**3 +\\\n",
    "        5*6*(factorial(elem) // (factorial(3)*factorial(elem-3))) *\\\n",
    "        (factorial(elem) // (factorial(2)*factorial(elem-2)))**2 * elem**2 +\\\n",
    "        5*4*(factorial(elem) // (factorial(4)*factorial(elem-4))) *\\\n",
    "        (factorial(elem) // (factorial(2)*factorial(elem-2))) * elem**3 +\\\n",
    "        5*(factorial(elem) // (factorial(5)*factorial(elem-5))) * elem**4) /\\\n",
    "       (factorial(5*elem) // (factorial(9)*factorial(5*elem-9))) for elem in x5_9]\n",
    "\n",
    "ax.scatter(x5_9, y5_9);"
   ]
  },
  {
   "cell_type": "code",
   "execution_count": 45,
   "metadata": {},
   "outputs": [
    {
     "data": {
      "text/plain": [
       "0.5023977030518226"
      ]
     },
     "execution_count": 45,
     "metadata": {},
     "output_type": "execute_result"
    }
   ],
   "source": [
    "k_colors_on_k_plus_four_draws(11, 5)"
   ]
  },
  {
   "cell_type": "code",
   "execution_count": 46,
   "metadata": {},
   "outputs": [
    {
     "data": {
      "text/plain": [
       "0.4955623096178658"
      ]
     },
     "execution_count": 46,
     "metadata": {},
     "output_type": "execute_result"
    }
   ],
   "source": [
    "k_colors_on_k_plus_four_draws(12, 5)"
   ]
  },
  {
   "cell_type": "markdown",
   "metadata": {},
   "source": [
    "5 colors, drawing 10:\n",
    "\n",
    "$\\large 1, n=2$\n",
    "\n",
    "$\\large\\frac{{n\\choose 2}^5 + {5\\choose 2}{3\\choose 1}{n\\choose 3}^2{n\\choose 2}{n\\choose 1}^2 + {5\\choose 1}{4\\choose 3}{n\\choose 3}{n\\choose 2}^3{n\\choose 1}}{5n\\choose 10}, n=3$\n",
    "\n",
    "$\\large\\frac{{n\\choose 2}^5 + {5\\choose 2}{3\\choose 1}{n\\choose 3}^2{n\\choose 2}{n\\choose 1}^2 + {5\\choose 1}{4\\choose 3}{n\\choose 3}{n\\choose 2}^3{n\\choose 1} + {5\\choose 1}{4\\choose 1}{n\\choose 4}{n\\choose 3}{n\\choose 1}^3 + {5\\choose 1}{4\\choose 2}{n\\choose 4}{n\\choose 2}^2{n\\choose 1}^2}{5n\\choose 10}, n=4$\n",
    "\n",
    "$\\frac{{n\\choose 2}^5 + {5\\choose 2}{3\\choose 1}{n\\choose 3}^2{n\\choose 2}{n\\choose 1}^2 + {5\\choose 1}{4\\choose 3}{n\\choose 3}{n\\choose 2}^3{n\\choose 1} + {5\\choose 1}{4\\choose 1}{n\\choose 4}{n\\choose 3}{n\\choose 1}^3 + {5\\choose 1}{4\\choose 2}{n\\choose 4}{n\\choose 2}^2{n\\choose 1}^2 + {5\\choose 1}{4\\choose 1}{n\\choose 5}{n\\choose 2}{n\\choose 1}^3}{5n\\choose 10}, n=5$\n",
    "\n",
    "$\\frac{{n\\choose 2}^5 + {5\\choose 2}{3\\choose 1}{n\\choose 3}^2{n\\choose 2}{n\\choose 1}^2 + {5\\choose 1}{4\\choose 3}{n\\choose 3}{n\\choose 2}^3{n\\choose 1} + {5\\choose 1}{4\\choose 1}{n\\choose 4}{n\\choose 3}{n\\choose 1}^3 + {5\\choose 1}{4\\choose 2}{n\\choose 4}{n\\choose 2}^2{n\\choose 1}^2 + {5\\choose 1}{4\\choose 1}{n\\choose 5}{n\\choose 2}{n\\choose 1}^3 + {5\\choose 1}{n\\choose 6}{n\\choose 1}^4}{5n\\choose 10}, n\\geq 6$"
   ]
  },
  {
   "cell_type": "code",
   "execution_count": 61,
   "metadata": {
    "scrolled": true
   },
   "outputs": [
    {
     "data": {
      "image/png": "[encoded data removed]",
      "text/plain": [
       "<Figure size 576x432 with 1 Axes>"
      ]
     },
     "metadata": {},
     "output_type": "display_data"
    }
   ],
   "source": [
    "fig, ax = plt.subplots(figsize=(8, 6))\n",
    "\n",
    "x5_10 = np.arange(12, 75)\n",
    "\n",
    "y5_10 = [((factorial(elem) // (factorial(2)*factorial(elem-2)))**5 +\\\n",
    "         10 * 3 * (factorial(elem) // (factorial(3)*factorial(elem-3)))**2 *\\\n",
    "         (factorial(elem) // (factorial(2)*factorial(elem-2))) * elem**2 +\\\n",
    "         5 * 4 * (factorial(elem) // (factorial(3)*factorial(elem-3))) *\\\n",
    "          (factorial(elem) // (factorial(2)*factorial(elem-2)))**3 * elem +\\\n",
    "          5 * 4 * (factorial(elem) // (factorial(4)*factorial(elem-4))) *\\\n",
    "          (factorial(elem) // (factorial(3)*factorial(elem-3))) * elem**3 +\\\n",
    "          5 * 6 * (factorial(elem) // (factorial(4)*factorial(elem-4))) *\\\n",
    "          (factorial(elem) // (factorial(2)*factorial(elem-2)))**2 * elem**2 +\\\n",
    "          5 * 4 * (factorial(elem) // (factorial(5)*factorial(elem-5))) *\\\n",
    "          (factorial(elem) // (factorial(2)*factorial(elem-2))) * elem**3 +\\\n",
    "          5 * (factorial(elem) // (factorial(6)*factorial(elem-6))) * elem**4) /\\\n",
    "        (factorial(5*elem) // (factorial(10)*factorial(5*elem-10))) for elem in x5_10]\n",
    "\n",
    "ax.scatter(x5_10, y5_10);"
   ]
  },
  {
   "cell_type": "code",
   "execution_count": null,
   "metadata": {},
   "outputs": [],
   "source": []
  },
  {
   "cell_type": "markdown",
   "metadata": {},
   "source": [
    "### Six Colors"
   ]
  },
  {
   "cell_type": "markdown",
   "metadata": {},
   "source": [
    "6 colors, drawing 6:\n",
    "$\\large\\frac{n^6}{6n\\choose 6}$"
   ]
  },
  {
   "cell_type": "code",
   "execution_count": 48,
   "metadata": {
    "scrolled": false
   },
   "outputs": [
    {
     "data": {
      "image/png": "[encoded data removed]",
      "text/plain": [
       "<Figure size 576x432 with 1 Axes>"
      ]
     },
     "metadata": {},
     "output_type": "display_data"
    }
   ],
   "source": [
    "fig, ax = plt.subplots(figsize=(8, 6))\n",
    "\n",
    "x6_6 = np.arange(2, 10)\n",
    "y6_6 = [elem**6 / (factorial(6*elem) // (factorial(6)*factorial(6*elem-6))) for elem in x6_6]\n",
    "\n",
    "ax.scatter(x6_6, y6_6);"
   ]
  },
  {
   "cell_type": "code",
   "execution_count": 49,
   "metadata": {},
   "outputs": [
    {
     "data": {
      "text/plain": [
       "0.03926955397543633"
      ]
     },
     "execution_count": 49,
     "metadata": {},
     "output_type": "execute_result"
    }
   ],
   "source": [
    "k_colors_on_k_draws(3, 6)"
   ]
  },
  {
   "cell_type": "markdown",
   "metadata": {},
   "source": [
    "6 colors, drawing 7:\n",
    "$\\large\\frac{6{n\\choose 2}{n\\choose 1}^5}{6n\\choose 7}$"
   ]
  },
  {
   "cell_type": "code",
   "execution_count": 50,
   "metadata": {},
   "outputs": [
    {
     "data": {
      "image/png": "[encoded data removed]",
      "text/plain": [
       "<Figure size 576x432 with 1 Axes>"
      ]
     },
     "metadata": {},
     "output_type": "display_data"
    }
   ],
   "source": [
    "fig, ax = plt.subplots(figsize=(8, 6))\n",
    "\n",
    "x6_7 = np.arange(2, 10)\n",
    "y6_7 = [(6*(factorial(elem) // (factorial(2)*factorial(elem-2))) * elem**5) /\\\n",
    "       (factorial(6*elem) // (factorial(7)*factorial(6*elem-7))) for elem in x6_7]\n",
    "\n",
    "ax.scatter(x6_7, y6_7);"
   ]
  },
  {
   "cell_type": "code",
   "execution_count": 51,
   "metadata": {},
   "outputs": [
    {
     "data": {
      "text/plain": [
       "0.13744343891402716"
      ]
     },
     "execution_count": 51,
     "metadata": {},
     "output_type": "execute_result"
    }
   ],
   "source": [
    "k_colors_on_k_plus_one_draws(3, 6)"
   ]
  },
  {
   "cell_type": "markdown",
   "metadata": {},
   "source": [
    "6 colors, drawing 8:\n",
    "\n",
    "$\\large\\frac{{6\\choose 2}{n\\choose 2}^2{n\\choose 1}^4}{6n\\choose 8}, n=2$\n",
    "\n",
    "$\\large\\frac{{6\\choose 2}{n\\choose 2}^2{n\\choose 1}^4 + {6\\choose 1}{n\\choose 3}{n\\choose 1}^5 + }{6n\\choose 8}, n\\geq 3$"
   ]
  },
  {
   "cell_type": "code",
   "execution_count": 52,
   "metadata": {
    "scrolled": false
   },
   "outputs": [
    {
     "data": {
      "image/png": "[encoded data removed]",
      "text/plain": [
       "<Figure size 432x288 with 1 Axes>"
      ]
     },
     "metadata": {},
     "output_type": "display_data"
    }
   ],
   "source": [
    "fig, ax = plt.subplots()\n",
    "\n",
    "x6_8 = np.arange(2, 10)\n",
    "y6_8 = [(15 * 2**4) / (factorial(12) // (factorial(8)*factorial(4)))]\n",
    "\n",
    "y6_8.extend([(6 * factorial(elem) // (factorial(3)*factorial(elem-3)) * elem**5 +\\\n",
    "         15 * (factorial(elem) // (factorial(2)*factorial(elem-2)))**2 * elem**4) /\\\n",
    "       (factorial(6*elem) // (factorial(8)*factorial(6*elem-8))) for elem in x6_8[1:]])\n",
    "\n",
    "ax.scatter(x6_8, y6_8);"
   ]
  },
  {
   "cell_type": "code",
   "execution_count": 53,
   "metadata": {},
   "outputs": [
    {
     "data": {
      "text/plain": [
       "0.28321678321678323"
      ]
     },
     "execution_count": 53,
     "metadata": {},
     "output_type": "execute_result"
    }
   ],
   "source": [
    "k_colors_on_k_plus_two_draws(3, 6)"
   ]
  },
  {
   "cell_type": "markdown",
   "metadata": {},
   "source": [
    "6 colors, drawing 9:\n",
    "\n",
    "$\\large\\frac{{6\\choose 3}{n\\choose 2}^3{n\\choose 1}^3}{6n\\choose 9}, n=2$\n",
    "\n",
    "$\\large\\frac{{6\\choose 3}{n\\choose 2}^3{n\\choose 1}^3 + {6\\choose 1}{5\\choose 1}{n\\choose 3}{n\\choose 2}{n\\choose 1}^4}{6n\\choose 9}, n=3$\n",
    "\n",
    "$\\large\\frac{{6\\choose 3}{n\\choose 2}^3{n\\choose 1}^3 + {6\\choose 1}{5\\choose 1}{n\\choose 3}{n\\choose 2}{n\\choose 1}^4 + {6\\choose 1}{n\\choose 4}{n\\choose 1}^5}{6n\\choose 9}, n\\geq 4$"
   ]
  },
  {
   "cell_type": "code",
   "execution_count": 54,
   "metadata": {
    "scrolled": true
   },
   "outputs": [
    {
     "data": {
      "image/png": "[encoded data removed]",
      "text/plain": [
       "<Figure size 432x288 with 1 Axes>"
      ]
     },
     "metadata": {},
     "output_type": "display_data"
    }
   ],
   "source": [
    "fig, ax = plt.subplots()\n",
    "\n",
    "x6_9 = np.arange(2, 10)\n",
    "\n",
    "y6_9 = [(20 * 2**3) / 220]\n",
    "y6_9.extend([(20 * 3**3 * 3**3 + 6 * 5 * 3 * 3**4) / 48620])\n",
    "\n",
    "y6_9.extend([(20 * (factorial(elem) // (factorial(2)*factorial(elem-2)))**3 * elem**3 +\\\n",
    "              30 * (factorial(elem) // (factorial(3)*factorial(elem-3))) *\\\n",
    "              (factorial(elem) // (factorial(2)*factorial(elem-2))) * elem**4 +\\\n",
    "              6 * (factorial(elem) // (factorial(4)*factorial(elem-4))) * elem**5) /\\\n",
    "            (factorial(6*elem) // (factorial(9)*factorial(6*elem-9))) for elem in x6_9[2:]])\n",
    "\n",
    "ax.scatter(x6_9, y6_9);"
   ]
  },
  {
   "cell_type": "code",
   "execution_count": 55,
   "metadata": {},
   "outputs": [
    {
     "data": {
      "text/plain": [
       "0.3571262497093699"
      ]
     },
     "execution_count": 55,
     "metadata": {},
     "output_type": "execute_result"
    }
   ],
   "source": [
    "k_colors_on_k_plus_three_draws(4, 6)"
   ]
  },
  {
   "cell_type": "markdown",
   "metadata": {},
   "source": [
    "6 colors, drawing 10:\n",
    "\n",
    "$\\large\\frac{{6\\choose 4}{n\\choose 2}^4{n\\choose 1}^2}{6n\\choose 10}, n=2$\n",
    "\n",
    "$\\large\\frac{{6\\choose 4}{n\\choose 2}^4{n\\choose 1}^2 + {6\\choose 2}{n\\choose 3}^2{n\\choose 1}^4 + {6\\choose 1}{5\\choose 2}{n\\choose 3}{n\\choose 2}^2{n\\choose 1}^3}{6n\\choose 10}, n=3$\n",
    "\n",
    "$\\large\\frac{{6\\choose 4}{n\\choose 2}^4{n\\choose 1}^2 + {6\\choose 2}{n\\choose 3}^2{n\\choose 1}^4 + {6\\choose 1}{5\\choose 2}{n\\choose 3}{n\\choose 2}^2{n\\choose 1}^3 + {6\\choose 1}{5\\choose 1}{n\\choose 4}{n\\choose 2}{n\\choose 1}^4}{6n\\choose 10}, n=4$\n",
    "\n",
    "$\\large\\frac{{6\\choose 4}{n\\choose 2}^4{n\\choose 1}^2 + {6\\choose 2}{n\\choose 3}^2{n\\choose 1}^4 + {6\\choose 1}{5\\choose 2}{n\\choose 3}{n\\choose 2}^2{n\\choose 1}^3 + {6\\choose 1}{5\\choose 1}{n\\choose 4}{n\\choose 2}{n\\choose 1}^4 + {6\\choose 1}{n\\choose 5}{n\\choose 1}^5}{6n\\choose 10}, n\\geq 5$"
   ]
  },
  {
   "cell_type": "code",
   "execution_count": 56,
   "metadata": {},
   "outputs": [
    {
     "data": {
      "image/png": "[encoded data removed]",
      "text/plain": [
       "<Figure size 432x288 with 1 Axes>"
      ]
     },
     "metadata": {},
     "output_type": "display_data"
    }
   ],
   "source": [
    "fig, ax = plt.subplots()\n",
    "\n",
    "x6_10 = np.arange(3, 10)\n",
    "\n",
    "y6_10 = [(15 * 3**4 * 3**2 + 15 * 3**4 + 6 * 10 * 3**2 * 3**3) / 43758,\\\n",
    "        (15 * 6**4 * 4**2 + 15 * 4**2 * 4**4 + 6 * 10 * 4 * 6**2 * 4**3 + 6 * 5 * 6 * 4**4) / 1961256]\n",
    "\n",
    "y6_10.extend([(15 * (factorial(elem) // (factorial(2)*factorial(elem-2))) * elem**2 +\\\n",
    "              15 * (factorial(elem) // (factorial(3)*factorial(elem-3)))**2 * elem**4 +\\\n",
    "              6 * 10 * (factorial(elem) // (factorial(3)*factorial(elem-3))) *\\\n",
    "               (factorial(elem) // (factorial(2)*factorial(elem-2)))**2 * elem**3 +\\\n",
    "              6 * 5 * (factorial(elem) // (factorial(4)*factorial(elem-4))) *\\\n",
    "               (factorial(elem) // (factorial(2)*factorial(elem-2))) * elem**4 +\\\n",
    "               6 * (factorial(elem) // (factorial(5)*factorial(elem-5))) * elem**5) /\\\n",
    "             (factorial(6*elem) // (factorial(10)*factorial(6*elem-10))) for elem in x6_10[2:]])\n",
    "\n",
    "ax.scatter(x6_10, y6_10);"
   ]
  },
  {
   "cell_type": "markdown",
   "metadata": {},
   "source": [
    "6 colors, drawing 11:\n",
    "\n",
    "$\\large\\frac{{6\\choose 5}{n\\choose 2}^5{n\\choose 1}}{6n\\choose 11}, n=2$\n",
    "\n",
    "$\\large\\frac{{6\\choose 5}{n\\choose 2}^5{n\\choose 1} + {6\\choose 2}{4\\choose 1}{n\\choose 3}^2{n\\choose 2}{n\\choose 1}^3 + {6\\choose 1}{5\\choose 3}{n\\choose 3}{n\\choose 2}^3{n\\choose 1}^2}{6n\\choose 11}, n=3$\n",
    "\n",
    "$\\large\\frac{{6\\choose 5}{n\\choose 2}^5{n\\choose 1} + {6\\choose 2}{4\\choose 1}{n\\choose 3}^2{n\\choose 2}{n\\choose 1}^3 + {6\\choose 1}{5\\choose 3}{n\\choose 3}{n\\choose 2}^3{n\\choose 1}^2 + {6\\choose 1}{5\\choose 1}{n\\choose 4}{n\\choose 3}{n\\choose 1}^4 + {6\\choose 1}{5\\choose 2}{n\\choose 4}{n\\choose 2}^2{n\\choose 1}^3}{6n\\choose 11}, n=4$\n",
    "\n",
    "$\\frac{{6\\choose 5}{n\\choose 2}^5{n\\choose 1} + {6\\choose 2}{4\\choose 1}{n\\choose 3}^2{n\\choose 2}{n\\choose 1}^3 + {6\\choose 1}{5\\choose 3}{n\\choose 3}{n\\choose 2}^3{n\\choose 1}^2 + {6\\choose 1}{5\\choose 1}{n\\choose 4}{n\\choose 3}{n\\choose 1}^4 + {6\\choose 1}{5\\choose 2}{n\\choose 4}{n\\choose 2}^2{n\\choose 1}^3 + {6\\choose 1}{5\\choose 1}{n\\choose 5}{n\\choose 2}{n\\choose 1}^4}{6n\\choose 11}, n=5$\n",
    "\n",
    "$\\tiny\\frac{{6\\choose 5}{n\\choose 2}^5{n\\choose 1} + {6\\choose 2}{4\\choose 1}{n\\choose 3}^2{n\\choose 2}{n\\choose 1}^3 + {6\\choose 1}{5\\choose 3}{n\\choose 3}{n\\choose 2}^3{n\\choose 1}^2 + {6\\choose 1}{5\\choose 1}{n\\choose 4}{n\\choose 3}{n\\choose 1}^4 + {6\\choose 1}{5\\choose 2}{n\\choose 4}{n\\choose 2}^2{n\\choose 1}^3 + {6\\choose 1}{5\\choose 1}{n\\choose 5}{n\\choose 2}{n\\choose 1}^4 + {6\\choose 1}{n\\choose 6}{n\\choose 1}^5}{6n\\choose 11}, n\\geq 6$"
   ]
  },
  {
   "cell_type": "code",
   "execution_count": 57,
   "metadata": {},
   "outputs": [
    {
     "data": {
      "image/png": "[encoded data removed]",
      "text/plain": [
       "<Figure size 432x288 with 1 Axes>"
      ]
     },
     "metadata": {},
     "output_type": "display_data"
    }
   ],
   "source": [
    "fig, ax = plt.subplots()\n",
    "\n",
    "x6_11 = np.arange(4, 8)\n",
    "\n",
    "y6_11 = [(6 * 6**5 * 4 + 15 * 4 * 4**2 * 6 * 4**3 + 6 * 10 * 4 * 6**3 * 4**2 +\\\n",
    "         6 * 5 * 4 * 4**4 + 6 * 10 * 6**2 * 4**3) / 2496144, (6 * 10**5 * 5 +\\\n",
    "                                                              15 * 4 * 10**2 * 10 * 5**3 +\\\n",
    "                                                             6 * 10 * 10 * 10**3 * 5**2 +\\\n",
    "                                                             6 * 5 * 5 * 10 * 5**4 +\\\n",
    "                                                             6 * 10 * 5 * 10**2 * 5**3 +\\\n",
    "                                                             6 * 5 * 10 * 5**4) / 54627300]\n",
    "\n",
    "y6_11.extend([(6*(factorial(elem) // (factorial(2)*factorial(elem-2)))**5 * elem +\\\n",
    "              15*4*(factorial(elem) // (factorial(3)*factorial(elem-3)))**2 *\\\n",
    "               (factorial(elem) // (factorial(2)*factorial(elem-2))) * elem**3 +\\\n",
    "              6*10*(factorial(elem) // (factorial(3)*factorial(elem-3))) *\\\n",
    "               (factorial(elem) // (factorial(2)*factorial(elem-2)))**3 * elem**2 +\\\n",
    "               6*5*(factorial(elem) // (factorial(4)*factorial(elem-4))) *\\\n",
    "               (factorial(elem) // (factorial(3)*factorial(elem-3))) * elem**4 +\\\n",
    "               6*10*(factorial(elem) // (factorial(4)*factorial(elem-4))) *\\\n",
    "               (factorial(elem) // (factorial(2)*factorial(elem-2)))**2 * elem**3 +\\\n",
    "               6*5*(factorial(elem) // (factorial(5)*factorial(elem-5))) *\\\n",
    "               (factorial(elem) // (factorial(2)*factorial(elem-2))) * elem**4 +\\\n",
    "               6*(factorial(elem) // (factorial(6)*factorial(elem-6))) * elem**5) /\\\n",
    "             (factorial(6*elem) // (factorial(11)*factorial(6*elem-11))) for elem in x6_11[2:]])\n",
    "\n",
    "ax.scatter(x6_11, y6_11);"
   ]
  },
  {
   "cell_type": "code",
   "execution_count": null,
   "metadata": {},
   "outputs": [],
   "source": []
  }
 ],
 "metadata": {
  "kernelspec": {
   "display_name": "Python 3",
   "language": "python",
   "name": "python3"
  },
  "language_info": {
   "codemirror_mode": {
    "name": "ipython",
    "version": 3
   },
   "file_extension": ".py",
   "mimetype": "text/x-python",
   "name": "python",
   "nbconvert_exporter": "python",
   "pygments_lexer": "ipython3",
   "version": "3.7.2"
  }
 },
 "nbformat": 4,
 "nbformat_minor": 4
}
